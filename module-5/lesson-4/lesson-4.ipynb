{
 "cells": [
  {
   "cell_type": "code",
   "execution_count": 1,
   "metadata": {
    "collapsed": true
   },
   "outputs": [],
   "source": [
    "import numpy\n",
    "from math import pi\n",
    "%matplotlib inline"
   ]
  },
  {
   "cell_type": "code",
   "execution_count": 2,
   "metadata": {
    "collapsed": true
   },
   "outputs": [],
   "source": [
    "from laplace_helper import plot_3D, L2_rel_error\n",
    "from cg_helper import poisson_2d, p_analytical"
   ]
  },
  {
   "cell_type": "code",
   "execution_count": 3,
   "metadata": {
    "collapsed": true
   },
   "outputs": [],
   "source": [
    "# Parameters\n",
    "nx = 101\n",
    "ny = 101\n",
    "xmin = 0\n",
    "xmax = 1\n",
    "ymin = -0.5\n",
    "ymax = 0.5\n",
    "\n",
    "l2_target = 1e-10\n",
    "\n",
    "# Spacing\n",
    "dx = (xmax-xmin)/(nx-1)\n",
    "dy = (ymax-ymin)/(ny-1)\n",
    "\n",
    "# Mesh\n",
    "x = numpy.linspace(xmin,xmax,nx)\n",
    "y = numpy.linspace(ymin,ymax,ny)\n",
    "X,Y = numpy.meshgrid(x,y)\n",
    "\n",
    "# Source\n",
    "L = xmax-xmin\n",
    "b = -2*(pi/L)**2*numpy.sin(pi*X/L)*numpy.cos(pi*Y/L)\n",
    "\n",
    "# Initialization\n",
    "p_i = numpy.zeros((ny,nx))\n",
    "\n",
    "# Analytical solution\n",
    "pan = p_analytical(X,Y,L)"
   ]
  },
  {
   "cell_type": "code",
   "execution_count": 4,
   "metadata": {
    "collapsed": true
   },
   "outputs": [],
   "source": [
    "def steepest_descent_2d(p, b, dx, dy, l2_target):\n",
    "    '''Performs steepest descent relaxation\n",
    "       Assumes Dirichlet boundary condition p=0\n",
    "    \n",
    "    Parameters:\n",
    "    ----------\n",
    "    p : 2D array of floats\n",
    "        Initial guess\n",
    "    b : 2D array of floats\n",
    "        Source term\n",
    "    dx : float\n",
    "         Mesh spacing in x direction\n",
    "    dy : float\n",
    "         Mesh spacing in y direction\n",
    "    l2_target : float\n",
    "                iteration exit criterion\n",
    "    \n",
    "    Returns:\n",
    "    -------\n",
    "    p : 2D array of float\n",
    "        Distribution after relaxation\n",
    "    '''\n",
    "    \n",
    "    ny, nx = p.shape\n",
    "    r = numpy.zeros((ny,nx)) # residual\n",
    "    Ar = numpy.zeros((ny,nx)) # to store result of matrix multiplication\n",
    "    \n",
    "    l2_norm = 1\n",
    "    iterations = 0\n",
    "    l2_conv = []\n",
    "    \n",
    "    # Iterations\n",
    "    while l2_norm > l2_target:\n",
    "        \n",
    "        pd = p.copy()\n",
    "        \n",
    "        r[1:-1,1:-1] = b[1:-1,1:-1]*dx**2 + 4*pd[1:-1,1:-1] - pd[1:-1,2:] - pd[1:-1,:-2] - pd[2:,1:-1] - pd[:-2,1:-1]\n",
    "        \n",
    "        Ar[1:-1,1:-1] = -4*r[1:-1,1:-1] + r[1:-1,2:] + r[1:-1,:-2] + r[2:,1:-1] + r[:-2,1:-1]\n",
    "        \n",
    "        rho = numpy.sum(r*r)\n",
    "        sigma = numpy.sum(r*Ar)\n",
    "        alpha = rho/sigma\n",
    "        \n",
    "        p = pd + alpha*r\n",
    "        \n",
    "        # BCs are automatically enforced\n",
    "        \n",
    "        l2_norm = L2_rel_error(pd,p)\n",
    "        iterations += 1\n",
    "        l2_conv.append(l2_norm)\n",
    "    \n",
    "    print('Number of SD iterations: {0:d}'.format(iterations))\n",
    "    return p, l2_conv"
   ]
  },
  {
   "cell_type": "code",
   "execution_count": 5,
   "metadata": {
    "collapsed": false
   },
   "outputs": [
    {
     "name": "stdout",
     "output_type": "stream",
     "text": [
      "Number of SD iterations: 2\n"
     ]
    },
    {
     "data": {
      "text/plain": [
       "8.2250762210863876e-05"
      ]
     },
     "execution_count": 5,
     "metadata": {},
     "output_type": "execute_result"
    }
   ],
   "source": [
    "p, l2_conv = steepest_descent_2d(p_i.copy(), b, dx, dy, l2_target)\n",
    "L2_rel_error(p, pan)"
   ]
  },
  {
   "cell_type": "code",
   "execution_count": 6,
   "metadata": {
    "collapsed": true
   },
   "outputs": [],
   "source": [
    "def conjugate_gradient_2d(p, b, dx, dy, l2_target):\n",
    "    '''Performs cg relaxation\n",
    "       Assumes Dirichlet boundary conditions p=0\n",
    "    \n",
    "    Parameters:\n",
    "    ----------\n",
    "    p : 2D array of floats\n",
    "        Initial guess\n",
    "    b : 2D array of floats\n",
    "        Source term\n",
    "    dx : float\n",
    "         Mesh spacing in x direction\n",
    "    dy : float\n",
    "         Mesh spacing in y direction\n",
    "    l2_target : float\n",
    "                exit criterion\n",
    "    \n",
    "    Returns:\n",
    "    -------\n",
    "    p : 2D array of float\n",
    "        Distribution after relaxation\n",
    "    '''\n",
    "    \n",
    "    ny, nx = p.shape\n",
    "    r = numpy.zeros((ny,nx)) # residual\n",
    "    Ad = numpy.zeros((ny,nx)) # to store result of matrix multiplication\n",
    "    \n",
    "    l2_norm = 1\n",
    "    iterations = 0\n",
    "    l2_conv = []\n",
    "    \n",
    "    # Step-0 We compute the initial residual and\n",
    "    # the first search direction is just this residual\n",
    "    \n",
    "    r[1:-1,1:-1] = b[1:-1,1:-1]*dx**2 + 4*p[1:-1,1:-1] - p[1:-1,2:] - p[1:-1,:-2] - p[2:,1:-1] - p[:-2,1:-1]\n",
    "    \n",
    "    d = r.copy()\n",
    "    rho = numpy.sum(r*r)\n",
    "    \n",
    "    Ad[1:-1,1:-1] = -4*d[1:-1,1:-1] + d[1:-1,2:] + d[1:-1,:-2] + d[2:,1:-1] + d[:-2,1:-1]\n",
    "    \n",
    "    sigma = numpy.sum(d*Ad)\n",
    "    \n",
    "    # Iterations\n",
    "    while l2_norm > l2_target:\n",
    "        \n",
    "        pk = p.copy()\n",
    "        rk = r.copy()\n",
    "        dk = d.copy()\n",
    "        \n",
    "        alpha = rho/sigma\n",
    "        \n",
    "        p = pk + alpha*dk\n",
    "        r = rk - alpha*Ad\n",
    "        \n",
    "        rhop1 = numpy.sum(r*r)\n",
    "        beta = rhop1 / rho\n",
    "        rho = rhop1\n",
    "        \n",
    "        d = r + beta*dk\n",
    "        \n",
    "        Ad[1:-1,1:-1] = -4*d[1:-1,1:-1] + d[1:-1,2:] + d[1:-1,:-2] + d[2:,1:-1] + d[:-2,1:-1]\n",
    "        \n",
    "        sigma = numpy.sum(d*Ad)\n",
    "        \n",
    "        # BCs are automatically enforced\n",
    "        \n",
    "        l2_norm = L2_rel_error(pk,p)\n",
    "        iterations += 1\n",
    "        l2_conv.append(l2_norm)\n",
    "    \n",
    "    print('Number of CG iterations: {0:d}'.format(iterations))\n",
    "    return p, l2_conv"
   ]
  },
  {
   "cell_type": "code",
   "execution_count": 7,
   "metadata": {
    "collapsed": false
   },
   "outputs": [
    {
     "name": "stdout",
     "output_type": "stream",
     "text": [
      "Number of CG iterations: 2\n"
     ]
    },
    {
     "data": {
      "text/plain": [
       "8.2250762210862941e-05"
      ]
     },
     "execution_count": 7,
     "metadata": {},
     "output_type": "execute_result"
    }
   ],
   "source": [
    "p, l2_conv = conjugate_gradient_2d(p_i.copy(), b, dx, dy, l2_target)\n",
    "L2_rel_error(p,pan)"
   ]
  },
  {
   "cell_type": "code",
   "execution_count": 8,
   "metadata": {
    "collapsed": false
   },
   "outputs": [
    {
     "name": "stdout",
     "output_type": "stream",
     "text": [
      "Number of Jacobi iterations: 31227\n"
     ]
    }
   ],
   "source": [
    "p, l2_conv = poisson_2d(p_i.copy(), b, dx, dy, l2_target)"
   ]
  },
  {
   "cell_type": "code",
   "execution_count": 9,
   "metadata": {
    "collapsed": true
   },
   "outputs": [],
   "source": [
    "b = (numpy.sin(pi*X/L)*numpy.cos(pi*Y/L)+\n",
    "     numpy.sin(6*pi*X/L)*numpy.sin(6*pi*Y/L))"
   ]
  },
  {
   "cell_type": "code",
   "execution_count": 10,
   "metadata": {
    "collapsed": false
   },
   "outputs": [
    {
     "name": "stdout",
     "output_type": "stream",
     "text": [
      "Number of Jacobi iterations: 31226\n",
      "Number of SD iterations: 28671\n",
      "Number of CG iterations: 3\n"
     ]
    }
   ],
   "source": [
    "p, l2_conv = poisson_2d(p_i.copy(), b, dx, dy, l2_target)\n",
    "\n",
    "p, l2_conv = steepest_descent_2d(p_i.copy(), b, dx, dy, l2_target)\n",
    "\n",
    "p, l2_conv = conjugate_gradient_2d(p_i.copy(), b, dx, dy, l2_target)"
   ]
  },
  {
   "cell_type": "code",
   "execution_count": 11,
   "metadata": {
    "collapsed": true
   },
   "outputs": [],
   "source": [
    "b = (numpy.sin(pi*X/L)*numpy.cos(pi*Y/L)+\n",
    "     numpy.sin(6*pi*X/L)*numpy.cos(6*pi*Y/L))"
   ]
  },
  {
   "cell_type": "code",
   "execution_count": 12,
   "metadata": {
    "collapsed": false
   },
   "outputs": [
    {
     "name": "stdout",
     "output_type": "stream",
     "text": [
      "Number of Jacobi iterations: 31226\n",
      "Number of SD iterations: 31675\n",
      "Number of CG iterations: 72\n"
     ]
    }
   ],
   "source": [
    "p, l2_conv = poisson_2d(p_i.copy(), b, dx, dy, l2_target)\n",
    "\n",
    "p, l2_conv = steepest_descent_2d(p_i.copy(), b, dx, dy, l2_target)\n",
    "\n",
    "p, l2_conv = conjugate_gradient_2d(p_i.copy(), b, dx, dy, l2_target)"
   ]
  },
  {
   "cell_type": "code",
   "execution_count": null,
   "metadata": {
    "collapsed": true
   },
   "outputs": [],
   "source": []
  }
 ],
 "metadata": {
  "kernelspec": {
   "display_name": "Python [Root]",
   "language": "python",
   "name": "Python [Root]"
  },
  "language_info": {
   "codemirror_mode": {
    "name": "ipython",
    "version": 3
   },
   "file_extension": ".py",
   "mimetype": "text/x-python",
   "name": "python",
   "nbconvert_exporter": "python",
   "pygments_lexer": "ipython3",
   "version": "3.5.2"
  }
 },
 "nbformat": 4,
 "nbformat_minor": 0
}
