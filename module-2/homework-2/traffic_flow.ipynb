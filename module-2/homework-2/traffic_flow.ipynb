{
 "cells": [
  {
   "cell_type": "code",
   "execution_count": 1,
   "metadata": {
    "collapsed": true
   },
   "outputs": [],
   "source": [
    "import numpy\n",
    "from matplotlib import pyplot\n",
    "%matplotlib inline\n",
    "from matplotlib import rcParams\n",
    "rcParams['font.family'] = 'serif'\n",
    "rcParams['font.size'] = 16"
   ]
  },
  {
   "cell_type": "code",
   "execution_count": 2,
   "metadata": {
    "collapsed": true
   },
   "outputs": [],
   "source": [
    "## model parameters\n",
    "\n",
    "V_max = 80  # km/hr\n",
    "L = 11  # km\n",
    "density_max = 250  # cars/km\n",
    "\n",
    "\n",
    "## unit conversions\n",
    "\n",
    "V_max = V_max * 1000 * (1/60) * (1/60)  # m/s  ### V_max km/hr * 1000 m/km * (1 hr / 60 min) * (1 min / 60 s)\n",
    "L = L * 1000  # m  ### L km * 1000 m / km\n",
    "density_max = density_max * (1/1000)  # cars/m  ### density_max cars/km * (1 km / 1000 m)\n",
    "\n",
    "rho_max = density_max"
   ]
  },
  {
   "cell_type": "code",
   "execution_count": 3,
   "metadata": {
    "collapsed": false
   },
   "outputs": [],
   "source": [
    "## discretization parameters\n",
    "\n",
    "nx = 51\n",
    "dx = L/(nx-1)\n",
    "dt = .001  # hr\n",
    "t_max = 6  # min\n",
    "\n",
    "\n",
    "## unit conversions\n",
    "\n",
    "dt = dt * 60 * 60  # s  ### dt hr * 60 min/hr * 60 s/min\n",
    "t_max = t_max * 60  # s  ### t_max min * 60 s/min"
   ]
  },
  {
   "cell_type": "code",
   "execution_count": 4,
   "metadata": {
    "collapsed": false
   },
   "outputs": [],
   "source": [
    "## x discretization\n",
    "\n",
    "x = numpy.linspace(0,L,nx)"
   ]
  },
  {
   "cell_type": "code",
   "execution_count": 5,
   "metadata": {
    "collapsed": false
   },
   "outputs": [],
   "source": [
    "## time discretization\n",
    "\n",
    "times = numpy.arange(0,t_max,dt)"
   ]
  },
  {
   "cell_type": "code",
   "execution_count": 6,
   "metadata": {
    "collapsed": true
   },
   "outputs": [],
   "source": [
    "## initial conditions\n",
    "## initial traffic density at each point x\n",
    "\n",
    "rho0 = numpy.ones(nx)*10\n",
    "rho0[10:20] = 50\n",
    "\n",
    "\n",
    "## unit conversion\n",
    "\n",
    "rho0 = rho0 * (1/1000)  # cars/m  ### rho cars/km * (1 km / 1000 m)"
   ]
  },
  {
   "cell_type": "code",
   "execution_count": 7,
   "metadata": {
    "collapsed": true
   },
   "outputs": [],
   "source": [
    "def traffic_velocity(V_max, rho_max, rho):\n",
    "    \"\"\"Returns the traffic velocity given the traffic density.\n",
    "    \n",
    "    Parameters\n",
    "    ----------\n",
    "    V_max : float\n",
    "            maximum traffic velocity\n",
    "    rho_max : float\n",
    "              maximum traffic density\n",
    "    rho : array of float\n",
    "          traffic density at each point x\n",
    "    \n",
    "    Returns\n",
    "    -------\n",
    "    v : array of float\n",
    "        traffic velocity at each point x\n",
    "    \"\"\"\n",
    "    \n",
    "    v = V_max * (1 - rho/rho_max)\n",
    "    \n",
    "    return v"
   ]
  },
  {
   "cell_type": "code",
   "execution_count": 8,
   "metadata": {
    "collapsed": true
   },
   "outputs": [],
   "source": [
    "def traffic_flow_rate(V_max, rho_max, rho):\n",
    "    \"\"\"Returns the traffic flow rate given the traffic density.\n",
    "    \n",
    "    Parameters\n",
    "    ----------\n",
    "    V_max : float\n",
    "            maximum traffic velocity\n",
    "    rho_max : float\n",
    "              maximum traffic density\n",
    "    rho : array of float\n",
    "          traffic density at each point x\n",
    "    \n",
    "    Returns\n",
    "    -------\n",
    "    flow_rate : array of float\n",
    "                traffic flow rate at each point x\n",
    "    \"\"\"\n",
    "    \n",
    "    flow_rate = V_max * rho * (1 - rho/rho_max)\n",
    "    \n",
    "    return flow_rate"
   ]
  },
  {
   "cell_type": "code",
   "execution_count": 9,
   "metadata": {
    "collapsed": false
   },
   "outputs": [],
   "source": [
    "## initial conditions\n",
    "## initial traffic velocity at each point x\n",
    "\n",
    "v0 = traffic_velocity(V_max, rho_max, rho0)"
   ]
  },
  {
   "cell_type": "code",
   "execution_count": 10,
   "metadata": {
    "collapsed": false
   },
   "outputs": [
    {
     "name": "stdout",
     "output_type": "stream",
     "text": [
      "At time t=0, minimum velocity = 17.78 m/s\n"
     ]
    }
   ],
   "source": [
    "## Question 1\n",
    "\n",
    "print('At time t=0, minimum velocity = {:.2f} m/s'.format(v0.min()))"
   ]
  },
  {
   "cell_type": "code",
   "execution_count": 11,
   "metadata": {
    "collapsed": false
   },
   "outputs": [],
   "source": [
    "## initial conditions\n",
    "## traffic flow rate at each point x\n",
    "\n",
    "flow_rate_0 = traffic_flow_rate(V_max, rho_max, rho0)"
   ]
  },
  {
   "cell_type": "code",
   "execution_count": 12,
   "metadata": {
    "collapsed": true
   },
   "outputs": [],
   "source": [
    "## data container for traffic velocity at each time and each point x\n",
    "\n",
    "v_data = numpy.empty((len(times), nx))\n",
    "\n",
    "v_data[0] = v0.copy()"
   ]
  },
  {
   "cell_type": "code",
   "execution_count": 13,
   "metadata": {
    "collapsed": false
   },
   "outputs": [],
   "source": [
    "## Finite difference scheme\n",
    "\n",
    "rho = rho0.copy()\n",
    "v = v0.copy()\n",
    "flow_rate = flow_rate_0.copy()\n",
    "\n",
    "for n in range(1,len(times)):\n",
    "    \n",
    "    rho_n = rho.copy()\n",
    "    v_n = v.copy()\n",
    "    flow_rate_n = flow_rate.copy()\n",
    "    \n",
    "    for i in range(1,nx):\n",
    "        \n",
    "        rho[i] = rho_n[i] - dt/dx * (flow_rate_n[i] - flow_rate_n[i-1])\n",
    "    \n",
    "    v = traffic_velocity(V_max, rho_max, rho)\n",
    "    flow_rate = traffic_flow_rate(V_max, rho_max, rho)\n",
    "    \n",
    "    v_data[n] = v.copy()"
   ]
  },
  {
   "cell_type": "code",
   "execution_count": 14,
   "metadata": {
    "collapsed": true
   },
   "outputs": [],
   "source": [
    "## time t = 3 min\n",
    "\n",
    "t3 = 3  # min\n",
    "\n",
    "\n",
    "## unit conversion\n",
    "\n",
    "t3 = t3 * 60  # s  ### t3 min * 60 s/min"
   ]
  },
  {
   "cell_type": "code",
   "execution_count": 15,
   "metadata": {
    "collapsed": false
   },
   "outputs": [],
   "source": [
    "## traffic velocity at time t = 3 min\n",
    "\n",
    "t3_index = int(t3/dt)\n",
    "\n",
    "v3 = v_data[t3_index]"
   ]
  },
  {
   "cell_type": "code",
   "execution_count": 16,
   "metadata": {
    "collapsed": false
   },
   "outputs": [
    {
     "name": "stdout",
     "output_type": "stream",
     "text": [
      "At time t=3 min, mean velocity = 20.64 m/s\n"
     ]
    }
   ],
   "source": [
    "## Question 2\n",
    "\n",
    "print('At time t=3 min, mean velocity = {:.2f} m/s'.format(v3.mean()))"
   ]
  },
  {
   "cell_type": "code",
   "execution_count": 17,
   "metadata": {
    "collapsed": true
   },
   "outputs": [],
   "source": [
    "## time t = 6 min\n",
    "\n",
    "t6 = 6  # min\n",
    "\n",
    "\n",
    "## unit conversion\n",
    "\n",
    "t6 = t6 * 60  # s  ### t6 min * 60 s/min"
   ]
  },
  {
   "cell_type": "code",
   "execution_count": 18,
   "metadata": {
    "collapsed": true
   },
   "outputs": [],
   "source": [
    "## traffic velocity at time t = 6 min\n",
    "\n",
    "t6_index = int(t6/dt)\n",
    "\n",
    "v6 = v_data[t6_index]"
   ]
  },
  {
   "cell_type": "code",
   "execution_count": 19,
   "metadata": {
    "collapsed": false
   },
   "outputs": [
    {
     "name": "stdout",
     "output_type": "stream",
     "text": [
      "At time t=6 min, minimum velocity = 18.78 m/s\n"
     ]
    }
   ],
   "source": [
    "## Question 3\n",
    "\n",
    "print('At time t=6 min, minimum velocity = {:.2f} m/s'.format(v6.min()))"
   ]
  },
  {
   "cell_type": "code",
   "execution_count": 20,
   "metadata": {
    "collapsed": true
   },
   "outputs": [],
   "source": [
    "## model parameters\n",
    "\n",
    "V_max = 136  # km/hr\n",
    "L = 11  # km\n",
    "density_max = 250  # cars/km\n",
    "\n",
    "\n",
    "## unit conversions\n",
    "\n",
    "V_max = V_max * 1000 * (1/60) * (1/60)  # m/s  ### V_max km/hr * 1000 m/km * (1 hr / 60 min) * (1 min / 60 s)\n",
    "L = L * 1000  # m  ### L km * 1000 m / km\n",
    "density_max = density_max * (1/1000)  # cars/m  ### density_max cars/km * (1 km / 1000 m)\n",
    "\n",
    "rho_max = density_max"
   ]
  },
  {
   "cell_type": "code",
   "execution_count": 21,
   "metadata": {
    "collapsed": true
   },
   "outputs": [],
   "source": [
    "## initial conditions\n",
    "## initial traffic density at each point x\n",
    "\n",
    "rho0 = numpy.ones(nx)*20\n",
    "rho0[10:20] = 50\n",
    "\n",
    "\n",
    "## unit conversion\n",
    "\n",
    "rho0 = rho0 * (1/1000)  # cars/m  ### rho cars/km * (1 km / 1000 m)"
   ]
  },
  {
   "cell_type": "code",
   "execution_count": 22,
   "metadata": {
    "collapsed": true
   },
   "outputs": [],
   "source": [
    "## initial conditions\n",
    "## initial traffic velocity at each point x\n",
    "\n",
    "v0 = traffic_velocity(V_max, rho_max, rho0)"
   ]
  },
  {
   "cell_type": "code",
   "execution_count": 23,
   "metadata": {
    "collapsed": false
   },
   "outputs": [
    {
     "name": "stdout",
     "output_type": "stream",
     "text": [
      "At time t=0, minimum velocity = 30.22 m/s\n"
     ]
    }
   ],
   "source": [
    "## Question 4\n",
    "\n",
    "print('At time t=0, minimum velocity = {:.2f} m/s'.format(v0.min()))"
   ]
  },
  {
   "cell_type": "code",
   "execution_count": 24,
   "metadata": {
    "collapsed": true
   },
   "outputs": [],
   "source": [
    "## initial conditions\n",
    "## traffic flow rate at each point x\n",
    "\n",
    "flow_rate_0 = traffic_flow_rate(V_max, rho_max, rho0)"
   ]
  },
  {
   "cell_type": "code",
   "execution_count": 25,
   "metadata": {
    "collapsed": true
   },
   "outputs": [],
   "source": [
    "## data container for traffic velocity at each time and each point x\n",
    "\n",
    "v_data = numpy.empty((len(times), nx))\n",
    "\n",
    "v_data[0] = v0.copy()"
   ]
  },
  {
   "cell_type": "code",
   "execution_count": 26,
   "metadata": {
    "collapsed": true
   },
   "outputs": [],
   "source": [
    "## Finite difference scheme\n",
    "\n",
    "rho = rho0.copy()\n",
    "v = v0.copy()\n",
    "flow_rate = flow_rate_0.copy()\n",
    "\n",
    "for n in range(1,len(times)):\n",
    "    \n",
    "    rho_n = rho.copy()\n",
    "    v_n = v.copy()\n",
    "    flow_rate_n = flow_rate.copy()\n",
    "    \n",
    "    for i in range(1,nx):\n",
    "        \n",
    "        rho[i] = rho_n[i] - dt/dx * (flow_rate_n[i] - flow_rate_n[i-1])\n",
    "    \n",
    "    v = traffic_velocity(V_max, rho_max, rho)\n",
    "    flow_rate = traffic_flow_rate(V_max, rho_max, rho)\n",
    "    \n",
    "    v_data[n] = v.copy()"
   ]
  },
  {
   "cell_type": "code",
   "execution_count": 27,
   "metadata": {
    "collapsed": true
   },
   "outputs": [],
   "source": [
    "## time t = 3 min\n",
    "\n",
    "t3 = 3  # min\n",
    "\n",
    "\n",
    "## unit conversion\n",
    "\n",
    "t3 = t3 * 60  # s  ### t3 min * 60 s/min"
   ]
  },
  {
   "cell_type": "code",
   "execution_count": 28,
   "metadata": {
    "collapsed": true
   },
   "outputs": [],
   "source": [
    "## traffic velocity at time t = 3 min\n",
    "\n",
    "t3_index = int(t3/dt)\n",
    "\n",
    "v3 = v_data[t3_index]"
   ]
  },
  {
   "cell_type": "code",
   "execution_count": 29,
   "metadata": {
    "collapsed": false
   },
   "outputs": [
    {
     "name": "stdout",
     "output_type": "stream",
     "text": [
      "At time t=3 min, mean velocity = 33.87 m/s\n"
     ]
    }
   ],
   "source": [
    "## Question 5\n",
    "\n",
    "print('At time t=3 min, mean velocity = {:.2f} m/s'.format(v3.mean()))"
   ]
  },
  {
   "cell_type": "code",
   "execution_count": 30,
   "metadata": {
    "collapsed": false
   },
   "outputs": [
    {
     "name": "stdout",
     "output_type": "stream",
     "text": [
      "At time t=3 min, minimum velocity = 30.99 m/s\n"
     ]
    }
   ],
   "source": [
    "## Question 6\n",
    "\n",
    "print('At time t=3 min, minimum velocity = {:.2f} m/s'.format(v3.min()))"
   ]
  },
  {
   "cell_type": "code",
   "execution_count": null,
   "metadata": {
    "collapsed": true
   },
   "outputs": [],
   "source": []
  }
 ],
 "metadata": {
  "anaconda-cloud": {},
  "kernelspec": {
   "display_name": "Python [Root]",
   "language": "python",
   "name": "Python [Root]"
  },
  "language_info": {
   "codemirror_mode": {
    "name": "ipython",
    "version": 3
   },
   "file_extension": ".py",
   "mimetype": "text/x-python",
   "name": "python",
   "nbconvert_exporter": "python",
   "pygments_lexer": "ipython3",
   "version": "3.5.2"
  }
 },
 "nbformat": 4,
 "nbformat_minor": 0
}
