{
 "cells": [
  {
   "cell_type": "code",
   "execution_count": 1,
   "metadata": {
    "collapsed": true
   },
   "outputs": [],
   "source": [
    "%matplotlib inline\n",
    "import numpy\n",
    "from matplotlib import pyplot\n",
    "from matplotlib import rcParams\n",
    "rcParams['font.family'] = 'serif'\n",
    "rcParams['font.size'] = 16\n",
    "from matplotlib import animation\n",
    "from IPython.display import HTML"
   ]
  },
  {
   "cell_type": "code",
   "execution_count": 2,
   "metadata": {
    "collapsed": true
   },
   "outputs": [],
   "source": [
    "# initial conditions\n",
    "nx = 81\n",
    "dx = .25\n",
    "dt = 0.0002\n",
    "gamma = 1.4"
   ]
  },
  {
   "cell_type": "code",
   "execution_count": 3,
   "metadata": {
    "collapsed": false
   },
   "outputs": [
    {
     "name": "stdout",
     "output_type": "stream",
     "text": [
      "81\n"
     ]
    },
    {
     "data": {
      "text/plain": [
       "array([-10.  ,  -9.75,  -9.5 ,  -9.25,  -9.  ,  -8.75,  -8.5 ,  -8.25,\n",
       "        -8.  ,  -7.75,  -7.5 ,  -7.25,  -7.  ,  -6.75,  -6.5 ,  -6.25,\n",
       "        -6.  ,  -5.75,  -5.5 ,  -5.25,  -5.  ,  -4.75,  -4.5 ,  -4.25,\n",
       "        -4.  ,  -3.75,  -3.5 ,  -3.25,  -3.  ,  -2.75,  -2.5 ,  -2.25,\n",
       "        -2.  ,  -1.75,  -1.5 ,  -1.25,  -1.  ,  -0.75,  -0.5 ,  -0.25,\n",
       "         0.  ,   0.25,   0.5 ,   0.75,   1.  ,   1.25,   1.5 ,   1.75,\n",
       "         2.  ,   2.25,   2.5 ,   2.75,   3.  ,   3.25,   3.5 ,   3.75,\n",
       "         4.  ,   4.25,   4.5 ,   4.75,   5.  ,   5.25,   5.5 ,   5.75,\n",
       "         6.  ,   6.25,   6.5 ,   6.75,   7.  ,   7.25,   7.5 ,   7.75,\n",
       "         8.  ,   8.25,   8.5 ,   8.75,   9.  ,   9.25,   9.5 ,   9.75,  10.  ])"
      ]
     },
     "execution_count": 3,
     "metadata": {},
     "output_type": "execute_result"
    }
   ],
   "source": [
    "x = numpy.linspace(-10,10,nx)\n",
    "print(len(x))\n",
    "x"
   ]
  },
  {
   "cell_type": "code",
   "execution_count": 4,
   "metadata": {
    "collapsed": false
   },
   "outputs": [
    {
     "name": "stdout",
     "output_type": "stream",
     "text": [
      "51\n"
     ]
    },
    {
     "data": {
      "text/plain": [
       "array([ 0.    ,  0.0002,  0.0004,  0.0006,  0.0008,  0.001 ,  0.0012,\n",
       "        0.0014,  0.0016,  0.0018,  0.002 ,  0.0022,  0.0024,  0.0026,\n",
       "        0.0028,  0.003 ,  0.0032,  0.0034,  0.0036,  0.0038,  0.004 ,\n",
       "        0.0042,  0.0044,  0.0046,  0.0048,  0.005 ,  0.0052,  0.0054,\n",
       "        0.0056,  0.0058,  0.006 ,  0.0062,  0.0064,  0.0066,  0.0068,\n",
       "        0.007 ,  0.0072,  0.0074,  0.0076,  0.0078,  0.008 ,  0.0082,\n",
       "        0.0084,  0.0086,  0.0088,  0.009 ,  0.0092,  0.0094,  0.0096,\n",
       "        0.0098,  0.01  ])"
      ]
     },
     "execution_count": 4,
     "metadata": {},
     "output_type": "execute_result"
    }
   ],
   "source": [
    "times = numpy.arange(0,0.01+dt,dt)\n",
    "nt = len(times)\n",
    "print(nt)\n",
    "times"
   ]
  },
  {
   "cell_type": "code",
   "execution_count": 5,
   "metadata": {
    "collapsed": false
   },
   "outputs": [
    {
     "name": "stdout",
     "output_type": "stream",
     "text": [
      "1  0.0002\n",
      "2  0.0004\n",
      "3  0.0006\n",
      "4  0.0008\n",
      "5  0.001\n",
      "6  0.0012\n",
      "7  0.0014\n",
      "8  0.0016\n",
      "9  0.0018\n",
      "10  0.002\n",
      "11  0.0022\n",
      "12  0.0024\n",
      "13  0.0026\n",
      "14  0.0028\n",
      "15  0.003\n",
      "16  0.0032\n",
      "17  0.0034\n",
      "18  0.0036\n",
      "19  0.0038\n",
      "20  0.004\n",
      "21  0.0042\n",
      "22  0.0044\n",
      "23  0.0046\n",
      "24  0.0048\n",
      "25  0.005\n",
      "26  0.0052\n",
      "27  0.0054\n",
      "28  0.0056\n",
      "29  0.0058\n",
      "30  0.006\n",
      "31  0.0062\n",
      "32  0.0064\n",
      "33  0.0066\n",
      "34  0.0068\n",
      "35  0.007\n",
      "36  0.0072\n",
      "37  0.0074\n",
      "38  0.0076\n",
      "39  0.0078\n",
      "40  0.008\n",
      "41  0.0082\n",
      "42  0.0084\n",
      "43  0.0086\n",
      "44  0.0088\n",
      "45  0.009\n",
      "46  0.0092\n",
      "47  0.0094\n",
      "48  0.0096\n",
      "49  0.0098\n",
      "50  0.01\n"
     ]
    }
   ],
   "source": [
    "for t in range(1,nt):\n",
    "    print(str(t) + \"  \" + str(times[t]))"
   ]
  },
  {
   "cell_type": "code",
   "execution_count": 6,
   "metadata": {
    "collapsed": true
   },
   "outputs": [],
   "source": [
    "initial_density_left = 1  # kg/m^3\n",
    "initial_velocity_left = 0  # m/s\n",
    "initial_pressure_left = 100  # kN/m^2\n",
    "\n",
    "initial_pressure_left = 1000 * initial_pressure_left  # N/m^2"
   ]
  },
  {
   "cell_type": "code",
   "execution_count": 7,
   "metadata": {
    "collapsed": true
   },
   "outputs": [],
   "source": [
    "initial_density_right = 0.125  # kg/m^3\n",
    "initial_velocity_right = 0  # m/s\n",
    "initial_pressure_right = 10  # kN/m^2\n",
    "\n",
    "initial_pressure_right = 1000 * initial_pressure_right  # N/m^2"
   ]
  },
  {
   "cell_type": "code",
   "execution_count": 8,
   "metadata": {
    "collapsed": false
   },
   "outputs": [
    {
     "data": {
      "text/plain": [
       "array([  1.00000000e+00,   0.00000000e+00,   2.50000000e+05])"
      ]
     },
     "execution_count": 8,
     "metadata": {},
     "output_type": "execute_result"
    }
   ],
   "source": [
    "density = initial_density_left\n",
    "velocity = initial_velocity_left\n",
    "pressure = initial_pressure_left\n",
    "\n",
    "u1 = density\n",
    "u2 = density * velocity\n",
    "u3 = (pressure/(gamma-1)) + ((density * velocity**2)/2)\n",
    "\n",
    "initial_u_left = numpy.array([u1, u2, u3])\n",
    "initial_u_left"
   ]
  },
  {
   "cell_type": "code",
   "execution_count": 9,
   "metadata": {
    "collapsed": false
   },
   "outputs": [
    {
     "data": {
      "text/plain": [
       "array([  1.25000000e-01,   0.00000000e+00,   2.50000000e+04])"
      ]
     },
     "execution_count": 9,
     "metadata": {},
     "output_type": "execute_result"
    }
   ],
   "source": [
    "density = initial_density_right\n",
    "velocity = initial_velocity_right\n",
    "pressure = initial_pressure_right\n",
    "\n",
    "u1 = density\n",
    "u2 = density * velocity\n",
    "u3 = (pressure/(gamma-1)) + ((density * velocity**2)/2)\n",
    "\n",
    "initial_u_right = numpy.array([u1, u2, u3])\n",
    "initial_u_right"
   ]
  },
  {
   "cell_type": "code",
   "execution_count": 10,
   "metadata": {
    "collapsed": false
   },
   "outputs": [
    {
     "name": "stdout",
     "output_type": "stream",
     "text": [
      "40\n"
     ]
    },
    {
     "data": {
      "text/plain": [
       "array([ 0,  1,  2,  3,  4,  5,  6,  7,  8,  9, 10, 11, 12, 13, 14, 15, 16,\n",
       "       17, 18, 19, 20, 21, 22, 23, 24, 25, 26, 27, 28, 29, 30, 31, 32, 33,\n",
       "       34, 35, 36, 37, 38, 39])"
      ]
     },
     "execution_count": 10,
     "metadata": {},
     "output_type": "execute_result"
    }
   ],
   "source": [
    "left_indices, = numpy.where( x < 0 )\n",
    "print(len(left_indices))\n",
    "left_indices"
   ]
  },
  {
   "cell_type": "code",
   "execution_count": 11,
   "metadata": {
    "collapsed": false
   },
   "outputs": [
    {
     "name": "stdout",
     "output_type": "stream",
     "text": [
      "41\n"
     ]
    },
    {
     "data": {
      "text/plain": [
       "array([40, 41, 42, 43, 44, 45, 46, 47, 48, 49, 50, 51, 52, 53, 54, 55, 56,\n",
       "       57, 58, 59, 60, 61, 62, 63, 64, 65, 66, 67, 68, 69, 70, 71, 72, 73,\n",
       "       74, 75, 76, 77, 78, 79, 80])"
      ]
     },
     "execution_count": 11,
     "metadata": {},
     "output_type": "execute_result"
    }
   ],
   "source": [
    "right_indices, = numpy.where( x >= 0 )\n",
    "print(len(right_indices))\n",
    "right_indices"
   ]
  },
  {
   "cell_type": "code",
   "execution_count": 12,
   "metadata": {
    "collapsed": false
   },
   "outputs": [
    {
     "data": {
      "text/plain": [
       "array([[  1.00000000e+00,   0.00000000e+00,   2.50000000e+05],\n",
       "       [  1.00000000e+00,   0.00000000e+00,   2.50000000e+05],\n",
       "       [  1.00000000e+00,   0.00000000e+00,   2.50000000e+05],\n",
       "       [  1.00000000e+00,   0.00000000e+00,   2.50000000e+05],\n",
       "       [  1.00000000e+00,   0.00000000e+00,   2.50000000e+05],\n",
       "       [  1.00000000e+00,   0.00000000e+00,   2.50000000e+05],\n",
       "       [  1.00000000e+00,   0.00000000e+00,   2.50000000e+05],\n",
       "       [  1.00000000e+00,   0.00000000e+00,   2.50000000e+05],\n",
       "       [  1.00000000e+00,   0.00000000e+00,   2.50000000e+05],\n",
       "       [  1.00000000e+00,   0.00000000e+00,   2.50000000e+05],\n",
       "       [  1.00000000e+00,   0.00000000e+00,   2.50000000e+05],\n",
       "       [  1.00000000e+00,   0.00000000e+00,   2.50000000e+05],\n",
       "       [  1.00000000e+00,   0.00000000e+00,   2.50000000e+05],\n",
       "       [  1.00000000e+00,   0.00000000e+00,   2.50000000e+05],\n",
       "       [  1.00000000e+00,   0.00000000e+00,   2.50000000e+05],\n",
       "       [  1.00000000e+00,   0.00000000e+00,   2.50000000e+05],\n",
       "       [  1.00000000e+00,   0.00000000e+00,   2.50000000e+05],\n",
       "       [  1.00000000e+00,   0.00000000e+00,   2.50000000e+05],\n",
       "       [  1.00000000e+00,   0.00000000e+00,   2.50000000e+05],\n",
       "       [  1.00000000e+00,   0.00000000e+00,   2.50000000e+05],\n",
       "       [  1.00000000e+00,   0.00000000e+00,   2.50000000e+05],\n",
       "       [  1.00000000e+00,   0.00000000e+00,   2.50000000e+05],\n",
       "       [  1.00000000e+00,   0.00000000e+00,   2.50000000e+05],\n",
       "       [  1.00000000e+00,   0.00000000e+00,   2.50000000e+05],\n",
       "       [  1.00000000e+00,   0.00000000e+00,   2.50000000e+05],\n",
       "       [  1.00000000e+00,   0.00000000e+00,   2.50000000e+05],\n",
       "       [  1.00000000e+00,   0.00000000e+00,   2.50000000e+05],\n",
       "       [  1.00000000e+00,   0.00000000e+00,   2.50000000e+05],\n",
       "       [  1.00000000e+00,   0.00000000e+00,   2.50000000e+05],\n",
       "       [  1.00000000e+00,   0.00000000e+00,   2.50000000e+05],\n",
       "       [  1.00000000e+00,   0.00000000e+00,   2.50000000e+05],\n",
       "       [  1.00000000e+00,   0.00000000e+00,   2.50000000e+05],\n",
       "       [  1.00000000e+00,   0.00000000e+00,   2.50000000e+05],\n",
       "       [  1.00000000e+00,   0.00000000e+00,   2.50000000e+05],\n",
       "       [  1.00000000e+00,   0.00000000e+00,   2.50000000e+05],\n",
       "       [  1.00000000e+00,   0.00000000e+00,   2.50000000e+05],\n",
       "       [  1.00000000e+00,   0.00000000e+00,   2.50000000e+05],\n",
       "       [  1.00000000e+00,   0.00000000e+00,   2.50000000e+05],\n",
       "       [  1.00000000e+00,   0.00000000e+00,   2.50000000e+05],\n",
       "       [  1.00000000e+00,   0.00000000e+00,   2.50000000e+05],\n",
       "       [  1.25000000e-01,   0.00000000e+00,   2.50000000e+04],\n",
       "       [  1.25000000e-01,   0.00000000e+00,   2.50000000e+04],\n",
       "       [  1.25000000e-01,   0.00000000e+00,   2.50000000e+04],\n",
       "       [  1.25000000e-01,   0.00000000e+00,   2.50000000e+04],\n",
       "       [  1.25000000e-01,   0.00000000e+00,   2.50000000e+04],\n",
       "       [  1.25000000e-01,   0.00000000e+00,   2.50000000e+04],\n",
       "       [  1.25000000e-01,   0.00000000e+00,   2.50000000e+04],\n",
       "       [  1.25000000e-01,   0.00000000e+00,   2.50000000e+04],\n",
       "       [  1.25000000e-01,   0.00000000e+00,   2.50000000e+04],\n",
       "       [  1.25000000e-01,   0.00000000e+00,   2.50000000e+04],\n",
       "       [  1.25000000e-01,   0.00000000e+00,   2.50000000e+04],\n",
       "       [  1.25000000e-01,   0.00000000e+00,   2.50000000e+04],\n",
       "       [  1.25000000e-01,   0.00000000e+00,   2.50000000e+04],\n",
       "       [  1.25000000e-01,   0.00000000e+00,   2.50000000e+04],\n",
       "       [  1.25000000e-01,   0.00000000e+00,   2.50000000e+04],\n",
       "       [  1.25000000e-01,   0.00000000e+00,   2.50000000e+04],\n",
       "       [  1.25000000e-01,   0.00000000e+00,   2.50000000e+04],\n",
       "       [  1.25000000e-01,   0.00000000e+00,   2.50000000e+04],\n",
       "       [  1.25000000e-01,   0.00000000e+00,   2.50000000e+04],\n",
       "       [  1.25000000e-01,   0.00000000e+00,   2.50000000e+04],\n",
       "       [  1.25000000e-01,   0.00000000e+00,   2.50000000e+04],\n",
       "       [  1.25000000e-01,   0.00000000e+00,   2.50000000e+04],\n",
       "       [  1.25000000e-01,   0.00000000e+00,   2.50000000e+04],\n",
       "       [  1.25000000e-01,   0.00000000e+00,   2.50000000e+04],\n",
       "       [  1.25000000e-01,   0.00000000e+00,   2.50000000e+04],\n",
       "       [  1.25000000e-01,   0.00000000e+00,   2.50000000e+04],\n",
       "       [  1.25000000e-01,   0.00000000e+00,   2.50000000e+04],\n",
       "       [  1.25000000e-01,   0.00000000e+00,   2.50000000e+04],\n",
       "       [  1.25000000e-01,   0.00000000e+00,   2.50000000e+04],\n",
       "       [  1.25000000e-01,   0.00000000e+00,   2.50000000e+04],\n",
       "       [  1.25000000e-01,   0.00000000e+00,   2.50000000e+04],\n",
       "       [  1.25000000e-01,   0.00000000e+00,   2.50000000e+04],\n",
       "       [  1.25000000e-01,   0.00000000e+00,   2.50000000e+04],\n",
       "       [  1.25000000e-01,   0.00000000e+00,   2.50000000e+04],\n",
       "       [  1.25000000e-01,   0.00000000e+00,   2.50000000e+04],\n",
       "       [  1.25000000e-01,   0.00000000e+00,   2.50000000e+04],\n",
       "       [  1.25000000e-01,   0.00000000e+00,   2.50000000e+04],\n",
       "       [  1.25000000e-01,   0.00000000e+00,   2.50000000e+04],\n",
       "       [  1.25000000e-01,   0.00000000e+00,   2.50000000e+04],\n",
       "       [  1.25000000e-01,   0.00000000e+00,   2.50000000e+04],\n",
       "       [  1.25000000e-01,   0.00000000e+00,   2.50000000e+04]])"
      ]
     },
     "execution_count": 12,
     "metadata": {},
     "output_type": "execute_result"
    }
   ],
   "source": [
    "initial_u = numpy.zeros((nx,3))\n",
    "\n",
    "initial_u[left_indices] = initial_u_left\n",
    "initial_u[right_indices] = initial_u_right\n",
    "\n",
    "initial_u"
   ]
  },
  {
   "cell_type": "code",
   "execution_count": 13,
   "metadata": {
    "collapsed": true
   },
   "outputs": [],
   "source": [
    "def compute_f(u, gamma):\n",
    "    \"\"\"Computes the flux vector f at each point x.\n",
    "    \n",
    "    Parameters\n",
    "    ----------\n",
    "    u : 2 dimensional array of floats\n",
    "        array of the vector u at each point x\n",
    "            --- vector u has 3 elements\n",
    "            --- vector u contains the conserved euler variables\n",
    "    \n",
    "    gamma : float\n",
    "            ratio of specific heats\n",
    "    \n",
    "    Returns\n",
    "    -------\n",
    "    f : 2 dimensional array of floats\n",
    "        array of the vector f at each point x\n",
    "            --- vector f has 3 elements\n",
    "            --- vector f contains flux of the conserved euler variables\n",
    "    \"\"\"\n",
    "    \n",
    "    u1 = u[:,0]\n",
    "    u2 = u[:,1]\n",
    "    u3 = u[:,2]\n",
    "    \n",
    "    f1 = u2\n",
    "    \n",
    "    f2 = ((u2**2)/u1) + (gamma-1)*(u3 - (1/2)*((u2**2)/u1))\n",
    "    \n",
    "    f3 = (u3 + (gamma-1)*(u3 - (1/2)*((u2**2)/u1))) * (u2/u1)\n",
    "    \n",
    "    f = numpy.zeros_like(u)\n",
    "    \n",
    "    f[:,0] = f1\n",
    "    f[:,1] = f2\n",
    "    f[:,2] = f3\n",
    "    \n",
    "    return f"
   ]
  },
  {
   "cell_type": "code",
   "execution_count": 14,
   "metadata": {
    "collapsed": true
   },
   "outputs": [],
   "source": [
    "def richtmyer(u, nt, dt, dx, gamma):\n",
    "    \"\"\"Computes the solution with the Richtmyer scheme.\n",
    "    \n",
    "    Parameters\n",
    "    ----------\n",
    "    u : 2 dimensional array of floats\n",
    "        array of the vector u at each point x\n",
    "            --- vector u has 3 elements\n",
    "            --- vector u contains the conserved euler variables\n",
    "    nt : int\n",
    "         Number of time steps\n",
    "    dt : float\n",
    "         Time-step size\n",
    "    dx : float\n",
    "         Mesh spacing\n",
    "    gamma : float\n",
    "            ratio of specific heats\n",
    "    \n",
    "    Returns\n",
    "    -------\n",
    "    u_n : 3 dimensional array of floats\n",
    "          array of the vector u at each time t and at each point x\n",
    "              --- vector u has 3 elements\n",
    "              --- vector u contains the conserved euler variables\n",
    "    \"\"\"\n",
    "    \n",
    "    #initialize results array\n",
    "    u_n = numpy.zeros((nt,len(u),3))\n",
    "    #copy the initial u array into each 1st-dimension element of u_n\n",
    "    u_n[:] = u.copy()\n",
    "    \n",
    "    for t in range(1,nt):\n",
    "        \n",
    "        u_star = u.copy()\n",
    "        \n",
    "        f = compute_f(u,gamma)\n",
    "        \n",
    "        u_star[:-1] = (1/2)*(u[1:] + u[:-1]) - (dt/(2*dx))*(f[1:] - f[:-1])\n",
    "        \n",
    "        f = compute_f(u_star,gamma)\n",
    "        \n",
    "        u[1:-1] = u[1:-1] - (dt/dx)*(f[1:-1] - f[:-2])\n",
    "        \n",
    "        u_n[t] = u.copy()\n",
    "    \n",
    "    return u_n"
   ]
  },
  {
   "cell_type": "code",
   "execution_count": 15,
   "metadata": {
    "collapsed": true
   },
   "outputs": [],
   "source": [
    "u_n = richtmyer(initial_u, nt, dt, dx, gamma)"
   ]
  },
  {
   "cell_type": "code",
   "execution_count": 16,
   "metadata": {
    "collapsed": false
   },
   "outputs": [
    {
     "data": {
      "text/plain": [
       "array([[  1.00000000e+00,   0.00000000e+00,   2.50000000e+05],\n",
       "       [  1.00000000e+00,   0.00000000e+00,   2.50000000e+05],\n",
       "       [  1.00000000e+00,   0.00000000e+00,   2.50000000e+05],\n",
       "       [  1.00000000e+00,   2.32830644e-14,   2.50000000e+05],\n",
       "       [  1.00000000e+00,   5.93718141e-13,   2.50000000e+05],\n",
       "       [  1.00000000e+00,   6.62403181e-12,   2.50000000e+05],\n",
       "       [  1.00000000e+00,   6.57746568e-11,   2.50000000e+05],\n",
       "       [  1.00000000e+00,   5.96523751e-10,   2.50000000e+05],\n",
       "       [  1.00000000e+00,   4.94139967e-09,   2.50000000e+05],\n",
       "       [  1.00000000e+00,   3.74458963e-08,   2.50000000e+05],\n",
       "       [  9.99999999e-01,   2.59932445e-07,   2.50000000e+05],\n",
       "       [  9.99999996e-01,   1.65429165e-06,   2.49999998e+05],\n",
       "       [  9.99999974e-01,   9.65776166e-06,   2.49999991e+05],\n",
       "       [  9.99999862e-01,   5.17246913e-05,   2.49999952e+05],\n",
       "       [  9.99999321e-01,   2.54062501e-04,   2.49999762e+05],\n",
       "       [  9.99996944e-01,   1.14360758e-03,   2.49998930e+05],\n",
       "       [  9.99987408e-01,   4.71158664e-03,   2.49995593e+05],\n",
       "       [  9.99952599e-01,   1.77350953e-02,   2.49983410e+05],\n",
       "       [  9.99837365e-01,   6.08453044e-02,   2.49943082e+05],\n",
       "       [  9.99492886e-01,   1.89677772e-01,   2.49822555e+05],\n",
       "       [  9.98567917e-01,   5.35306599e-01,   2.49499118e+05],\n",
       "       [  9.96350191e-01,   1.36231355e+00,   2.48724744e+05],\n",
       "       [  9.91628231e-01,   3.11519539e+00,   2.47080970e+05],\n",
       "       [  9.82735209e-01,   6.38847452e+00,   2.44003107e+05],\n",
       "       [  9.67920761e-01,   1.17585237e+01,   2.38926278e+05],\n",
       "       [  9.46001543e-01,   1.95212635e+01,   2.31527839e+05],\n",
       "       [  9.16877399e-01,   2.94817690e+01,   2.21903215e+05],\n",
       "       [  8.81648138e-01,   4.10005548e+01,   2.10573261e+05],\n",
       "       [  8.42085938e-01,   5.31972313e+01,   1.98255552e+05],\n",
       "       [  8.00121075e-01,   6.52661652e+01,   1.85659803e+05],\n",
       "       [  7.57300476e-01,   7.66038113e+01,   1.73305214e+05],\n",
       "       [  7.14814908e-01,   8.68874876e+01,   1.61535206e+05],\n",
       "       [  6.72777605e-01,   9.58185340e+01,   1.50436781e+05],\n",
       "       [  6.33890534e-01,   1.03819456e+02,   1.40237780e+05],\n",
       "       [  5.90525771e-01,   1.09422140e+02,   1.30555670e+05],\n",
       "       [  5.61812425e-01,   1.16350876e+02,   1.22182194e+05],\n",
       "       [  5.15985461e-01,   1.18298267e+02,   1.13571470e+05],\n",
       "       [  4.89951234e-01,   1.22824346e+02,   1.06985224e+05],\n",
       "       [  4.48874171e-01,   1.22446043e+02,   9.91771497e+04],\n",
       "       [  4.47609044e-01,   1.29245640e+02,   9.72446569e+04],\n",
       "       [  2.96965579e-01,   1.19972951e+02,   6.99771686e+04],\n",
       "       [  3.61267956e-01,   1.25415685e+02,   8.14040607e+04],\n",
       "       [  4.33593139e-01,   1.27038501e+02,   9.45236034e+04],\n",
       "       [  4.26993770e-01,   1.24463750e+02,   9.45380404e+04],\n",
       "       [  4.10994420e-01,   1.20790651e+02,   9.33323500e+04],\n",
       "       [  4.18925962e-01,   1.22635950e+02,   9.39665670e+04],\n",
       "       [  4.43996184e-01,   1.30210160e+02,   9.50051775e+04],\n",
       "       [  4.64345846e-01,   1.36111148e+02,   9.58859125e+04],\n",
       "       [  4.56969012e-01,   1.33920302e+02,   9.54566506e+04],\n",
       "       [  4.21948610e-01,   1.23574466e+02,   9.38387630e+04],\n",
       "       [  3.74691403e-01,   1.09639003e+02,   9.16680404e+04],\n",
       "       [  3.31703701e-01,   9.69816942e+01,   8.97200850e+04],\n",
       "       [  3.02043121e-01,   8.86501530e+01,   8.88641479e+04],\n",
       "       [  2.87044645e-01,   8.55476040e+01,   8.98456077e+04],\n",
       "       [  2.80922999e-01,   8.51473058e+01,   9.13760343e+04],\n",
       "       [  2.72305465e-01,   8.10159577e+01,   8.89675034e+04],\n",
       "       [  2.55703829e-01,   7.04880520e+01,   8.09082874e+04],\n",
       "       [  2.45164032e-01,   6.38306369e+01,   7.57467276e+04],\n",
       "       [  2.60618360e-01,   7.45789142e+01,   8.45254243e+04],\n",
       "       [  2.97072435e-01,   1.00716631e+02,   1.05826117e+05],\n",
       "       [  3.01486051e-01,   1.04422286e+02,   1.09123171e+05],\n",
       "       [  2.23812097e-01,   5.15174068e+01,   6.64446149e+04],\n",
       "       [  1.47236869e-01,   8.87717488e+00,   3.22305608e+04],\n",
       "       [  1.27257974e-01,   7.71385429e-01,   2.56430122e+04],\n",
       "       [  1.25177302e-01,   5.94296043e-02,   2.50497080e+04],\n",
       "       [  1.25013693e-01,   4.58295070e-03,   2.50038343e+04],\n",
       "       [  1.25001071e-01,   3.58335781e-04,   2.50002998e+04],\n",
       "       [  1.25000085e-01,   2.84668878e-05,   2.50000238e+04],\n",
       "       [  1.25000007e-01,   2.29362898e-06,   2.50000019e+04],\n",
       "       [  1.25000001e-01,   1.86319456e-07,   2.50000002e+04],\n",
       "       [  1.25000000e-01,   1.51089524e-08,   2.50000000e+04],\n",
       "       [  1.25000000e-01,   1.20767800e-09,   2.50000000e+04],\n",
       "       [  1.25000000e-01,   9.38569428e-11,   2.50000000e+04],\n",
       "       [  1.25000000e-01,   7.00092642e-12,   2.50000000e+04],\n",
       "       [  1.25000000e-01,   4.96220309e-13,   2.50000000e+04],\n",
       "       [  1.25000000e-01,   3.49245965e-14,   2.50000000e+04],\n",
       "       [  1.25000000e-01,   1.45519152e-15,   2.50000000e+04],\n",
       "       [  1.25000000e-01,   0.00000000e+00,   2.50000000e+04],\n",
       "       [  1.25000000e-01,   0.00000000e+00,   2.50000000e+04],\n",
       "       [  1.25000000e-01,   0.00000000e+00,   2.50000000e+04],\n",
       "       [  1.25000000e-01,   0.00000000e+00,   2.50000000e+04]])"
      ]
     },
     "execution_count": 16,
     "metadata": {},
     "output_type": "execute_result"
    }
   ],
   "source": [
    "final_u = u_n[-1]\n",
    "\n",
    "final_u"
   ]
  },
  {
   "cell_type": "code",
   "execution_count": 17,
   "metadata": {
    "collapsed": false
   },
   "outputs": [
    {
     "data": {
      "text/plain": [
       "50"
      ]
     },
     "execution_count": 17,
     "metadata": {},
     "output_type": "execute_result"
    }
   ],
   "source": [
    "index, = numpy.where(x == 2.5)\n",
    "index = index[0]\n",
    "index"
   ]
  },
  {
   "cell_type": "code",
   "execution_count": 18,
   "metadata": {
    "collapsed": false
   },
   "outputs": [
    {
     "name": "stdout",
     "output_type": "stream",
     "text": [
      "2.5\n"
     ]
    }
   ],
   "source": [
    "print(x[index])"
   ]
  },
  {
   "cell_type": "code",
   "execution_count": 19,
   "metadata": {
    "collapsed": false
   },
   "outputs": [
    {
     "data": {
      "text/plain": [
       "array([  3.74691403e-01,   1.09639003e+02,   9.16680404e+04])"
      ]
     },
     "execution_count": 19,
     "metadata": {},
     "output_type": "execute_result"
    }
   ],
   "source": [
    "u = final_u[index]\n",
    "\n",
    "u1 = u[0]\n",
    "u2 = u[1]\n",
    "u3 = u[2]\n",
    "\n",
    "u"
   ]
  },
  {
   "cell_type": "code",
   "execution_count": 20,
   "metadata": {
    "collapsed": false
   },
   "outputs": [
    {
     "name": "stdout",
     "output_type": "stream",
     "text": [
      "At time t = 0.01 s and position x = 2.5 m, density = 0.37 kg/m^3\n"
     ]
    }
   ],
   "source": [
    "density = u1\n",
    "\n",
    "print(\"At time t = 0.01 s and position x = 2.5 m, density = {:.2f} kg/m^3\".format(density))"
   ]
  },
  {
   "cell_type": "code",
   "execution_count": 21,
   "metadata": {
    "collapsed": false
   },
   "outputs": [
    {
     "name": "stdout",
     "output_type": "stream",
     "text": [
      "At time t = 0.01 s and position x = 2.5 m, velocity = 292.61 m/s\n"
     ]
    }
   ],
   "source": [
    "velocity = u2/u1\n",
    "\n",
    "print(\"At time t = 0.01 s and position x = 2.5 m, velocity = {:.2f} m/s\".format(velocity))"
   ]
  },
  {
   "cell_type": "code",
   "execution_count": 22,
   "metadata": {
    "collapsed": false
   },
   "outputs": [
    {
     "name": "stdout",
     "output_type": "stream",
     "text": [
      "At time t = 0.01 s and position x = 2.5 m, pressure = 30250.89 N/m^2\n"
     ]
    }
   ],
   "source": [
    "pressure = (gamma - 1) * (u3 - (1/2)*((u2**2)/u1))\n",
    "\n",
    "print(\"At time t = 0.01 s and position x = 2.5 m, pressure = {:.2f} N/m^2\".format(pressure))"
   ]
  },
  {
   "cell_type": "code",
   "execution_count": null,
   "metadata": {
    "collapsed": true
   },
   "outputs": [],
   "source": []
  }
 ],
 "metadata": {
  "anaconda-cloud": {},
  "kernelspec": {
   "display_name": "Python [Root]",
   "language": "python",
   "name": "Python [Root]"
  },
  "language_info": {
   "codemirror_mode": {
    "name": "ipython",
    "version": 3
   },
   "file_extension": ".py",
   "mimetype": "text/x-python",
   "name": "python",
   "nbconvert_exporter": "python",
   "pygments_lexer": "ipython3",
   "version": "3.5.2"
  }
 },
 "nbformat": 4,
 "nbformat_minor": 0
}
