{
 "cells": [
  {
   "cell_type": "code",
   "execution_count": 1,
   "metadata": {
    "collapsed": true
   },
   "outputs": [],
   "source": [
    "%matplotlib inline\n",
    "import numpy\n",
    "from matplotlib import pyplot\n",
    "from matplotlib import rcParams\n",
    "rcParams['font.family'] = 'serif'\n",
    "rcParams['font.size'] = 16\n",
    "from matplotlib import animation\n",
    "from IPython.display import HTML"
   ]
  },
  {
   "cell_type": "code",
   "execution_count": 2,
   "metadata": {
    "collapsed": true
   },
   "outputs": [],
   "source": [
    "# initial conditions\n",
    "nx = 81\n",
    "dx = .25\n",
    "dt = 0.0002\n",
    "gamma = 1.4"
   ]
  },
  {
   "cell_type": "code",
   "execution_count": 3,
   "metadata": {
    "collapsed": false
   },
   "outputs": [
    {
     "name": "stdout",
     "output_type": "stream",
     "text": [
      "81\n"
     ]
    },
    {
     "data": {
      "text/plain": [
       "array([-10.  ,  -9.75,  -9.5 ,  -9.25,  -9.  ,  -8.75,  -8.5 ,  -8.25,\n",
       "        -8.  ,  -7.75,  -7.5 ,  -7.25,  -7.  ,  -6.75,  -6.5 ,  -6.25,\n",
       "        -6.  ,  -5.75,  -5.5 ,  -5.25,  -5.  ,  -4.75,  -4.5 ,  -4.25,\n",
       "        -4.  ,  -3.75,  -3.5 ,  -3.25,  -3.  ,  -2.75,  -2.5 ,  -2.25,\n",
       "        -2.  ,  -1.75,  -1.5 ,  -1.25,  -1.  ,  -0.75,  -0.5 ,  -0.25,\n",
       "         0.  ,   0.25,   0.5 ,   0.75,   1.  ,   1.25,   1.5 ,   1.75,\n",
       "         2.  ,   2.25,   2.5 ,   2.75,   3.  ,   3.25,   3.5 ,   3.75,\n",
       "         4.  ,   4.25,   4.5 ,   4.75,   5.  ,   5.25,   5.5 ,   5.75,\n",
       "         6.  ,   6.25,   6.5 ,   6.75,   7.  ,   7.25,   7.5 ,   7.75,\n",
       "         8.  ,   8.25,   8.5 ,   8.75,   9.  ,   9.25,   9.5 ,   9.75,  10.  ])"
      ]
     },
     "execution_count": 3,
     "metadata": {},
     "output_type": "execute_result"
    }
   ],
   "source": [
    "x = numpy.linspace(-10,10,nx)\n",
    "print(len(x))\n",
    "x"
   ]
  },
  {
   "cell_type": "code",
   "execution_count": 4,
   "metadata": {
    "collapsed": false
   },
   "outputs": [
    {
     "name": "stdout",
     "output_type": "stream",
     "text": [
      "50\n"
     ]
    },
    {
     "data": {
      "text/plain": [
       "array([ 0.    ,  0.0002,  0.0004,  0.0006,  0.0008,  0.001 ,  0.0012,\n",
       "        0.0014,  0.0016,  0.0018,  0.002 ,  0.0022,  0.0024,  0.0026,\n",
       "        0.0028,  0.003 ,  0.0032,  0.0034,  0.0036,  0.0038,  0.004 ,\n",
       "        0.0042,  0.0044,  0.0046,  0.0048,  0.005 ,  0.0052,  0.0054,\n",
       "        0.0056,  0.0058,  0.006 ,  0.0062,  0.0064,  0.0066,  0.0068,\n",
       "        0.007 ,  0.0072,  0.0074,  0.0076,  0.0078,  0.008 ,  0.0082,\n",
       "        0.0084,  0.0086,  0.0088,  0.009 ,  0.0092,  0.0094,  0.0096,\n",
       "        0.0098,  0.01  ])"
      ]
     },
     "execution_count": 4,
     "metadata": {},
     "output_type": "execute_result"
    }
   ],
   "source": [
    "t = numpy.arange(0,0.01+dt,dt)\n",
    "nt = len(t)-1\n",
    "print(nt)\n",
    "t"
   ]
  },
  {
   "cell_type": "code",
   "execution_count": 5,
   "metadata": {
    "collapsed": true
   },
   "outputs": [],
   "source": [
    "initial_density_left = 1  # kg/m^3\n",
    "initial_velocity_left = 0  # m/s\n",
    "initial_pressure_left = 100  # kN/m^2\n",
    "\n",
    "initial_pressure_left = 1000 * initial_pressure_left  # N/m^2"
   ]
  },
  {
   "cell_type": "code",
   "execution_count": 6,
   "metadata": {
    "collapsed": true
   },
   "outputs": [],
   "source": [
    "initial_density_right = 0.125  # kg/m^3\n",
    "initial_velocity_right = 0  # m/s\n",
    "initial_pressure_right = 10  # kN/m^2\n",
    "\n",
    "initial_pressure_right = 1000 * initial_pressure_right  # N/m^2"
   ]
  },
  {
   "cell_type": "code",
   "execution_count": 28,
   "metadata": {
    "collapsed": false
   },
   "outputs": [
    {
     "data": {
      "text/plain": [
       "array([  1.00000000e+00,   0.00000000e+00,   2.50000000e+05])"
      ]
     },
     "execution_count": 28,
     "metadata": {},
     "output_type": "execute_result"
    }
   ],
   "source": [
    "density = initial_density_left\n",
    "velocity = initial_velocity_left\n",
    "pressure = initial_pressure_left\n",
    "\n",
    "u1 = density\n",
    "u2 = density * velocity\n",
    "u3 = (pressure/(gamma-1)) + ((density * velocity**2)/2)\n",
    "\n",
    "initial_u_left = numpy.array([u1, u2, u3])\n",
    "initial_u_left"
   ]
  },
  {
   "cell_type": "code",
   "execution_count": 29,
   "metadata": {
    "collapsed": false
   },
   "outputs": [
    {
     "data": {
      "text/plain": [
       "array([  1.25000000e-01,   0.00000000e+00,   2.50000000e+04])"
      ]
     },
     "execution_count": 29,
     "metadata": {},
     "output_type": "execute_result"
    }
   ],
   "source": [
    "density = initial_density_right\n",
    "velocity = initial_velocity_right\n",
    "pressure = initial_pressure_right\n",
    "\n",
    "u1 = density\n",
    "u2 = density * velocity\n",
    "u3 = (pressure/(gamma-1)) + ((density * velocity**2)/2)\n",
    "\n",
    "initial_u_right = numpy.array([u1, u2, u3])\n",
    "initial_u_right"
   ]
  },
  {
   "cell_type": "code",
   "execution_count": 30,
   "metadata": {
    "collapsed": false
   },
   "outputs": [
    {
     "name": "stdout",
     "output_type": "stream",
     "text": [
      "40\n"
     ]
    },
    {
     "data": {
      "text/plain": [
       "(array([ 0,  1,  2,  3,  4,  5,  6,  7,  8,  9, 10, 11, 12, 13, 14, 15, 16,\n",
       "        17, 18, 19, 20, 21, 22, 23, 24, 25, 26, 27, 28, 29, 30, 31, 32, 33,\n",
       "        34, 35, 36, 37, 38, 39]),)"
      ]
     },
     "execution_count": 30,
     "metadata": {},
     "output_type": "execute_result"
    }
   ],
   "source": [
    "left_indices = numpy.where( x < 0 )\n",
    "print(len(left_indices[0]))\n",
    "left_indices"
   ]
  },
  {
   "cell_type": "code",
   "execution_count": 31,
   "metadata": {
    "collapsed": false
   },
   "outputs": [
    {
     "name": "stdout",
     "output_type": "stream",
     "text": [
      "41\n"
     ]
    },
    {
     "data": {
      "text/plain": [
       "(array([40, 41, 42, 43, 44, 45, 46, 47, 48, 49, 50, 51, 52, 53, 54, 55, 56,\n",
       "        57, 58, 59, 60, 61, 62, 63, 64, 65, 66, 67, 68, 69, 70, 71, 72, 73,\n",
       "        74, 75, 76, 77, 78, 79, 80]),)"
      ]
     },
     "execution_count": 31,
     "metadata": {},
     "output_type": "execute_result"
    }
   ],
   "source": [
    "right_indices = numpy.where( x >= 0 )\n",
    "print(len(right_indices[0]))\n",
    "right_indices"
   ]
  },
  {
   "cell_type": "code",
   "execution_count": 32,
   "metadata": {
    "collapsed": false
   },
   "outputs": [],
   "source": [
    "initial_u = numpy.zeros((nx,3))\n",
    "\n",
    "initial_u[left_indices] = initial_u_left\n",
    "initial_u[right_indices] = initial_u_right\n",
    "\n",
    "#initial_u"
   ]
  },
  {
   "cell_type": "code",
   "execution_count": 34,
   "metadata": {
    "collapsed": false
   },
   "outputs": [],
   "source": [
    "u1 = initial_u[:,0]\n",
    "u2 = initial_u[:,1]\n",
    "u3 = initial_u[:,2]\n",
    "\n",
    "#print(u1)\n",
    "#print(u2)\n",
    "#print(u3)\n",
    "\n",
    "new_u = numpy.zeros_like(initial_u)\n",
    "\n",
    "new_u[:,0] = u1\n",
    "new_u[:,1] = u2\n",
    "new_u[:,2] = u3\n",
    "\n",
    "#print(new_u == initial_u)\n",
    "\n",
    "#new_u\n",
    "\n",
    "initial_f = compute_f(initial_u, gamma)\n",
    "\n",
    "#initial_f"
   ]
  },
  {
   "cell_type": "code",
   "execution_count": 25,
   "metadata": {
    "collapsed": true
   },
   "outputs": [],
   "source": [
    "def compute_f(u, gamma):\n",
    "    \"\"\"Computes the flux vector f at each point x.\n",
    "    \n",
    "    Parameters\n",
    "    ----------\n",
    "    u : 2 dimensional array of floats\n",
    "        array of the vector u at each point x\n",
    "            --- vector u has 3 elements\n",
    "            --- vector u contains the conserved euler variables\n",
    "    \n",
    "    gamma : float\n",
    "            ratio of specific heats\n",
    "    \n",
    "    Returns\n",
    "    -------\n",
    "    f : 2 dimensional array of floats\n",
    "        array of the vector f at each point x\n",
    "            --- vector f has 3 elements\n",
    "            --- vector f contains flux of the conserved euler variables\n",
    "    \"\"\"\n",
    "    \n",
    "    u1 = u[:,0]\n",
    "    u2 = u[:,1]\n",
    "    u3 = u[:,2]\n",
    "    \n",
    "    f1 = u2\n",
    "    \n",
    "    f2 = ((u2**2)/u1) + (gamma-1)*(u3 - (1/2)*((u2**2)/u1))\n",
    "    \n",
    "    f3 = (u3 + (gamma-1)*(u3 - (1/2)*((u2**2)/u1))) * (u2/u1)\n",
    "    \n",
    "    f = numpy.zeros_like(u)\n",
    "    \n",
    "    f[:,0] = f1\n",
    "    f[:,1] = f2\n",
    "    f[:,2] = f3\n",
    "    \n",
    "    return f"
   ]
  },
  {
   "cell_type": "code",
   "execution_count": null,
   "metadata": {
    "collapsed": true
   },
   "outputs": [],
   "source": [
    "def richtmyer(u, nt, dt, dx):\n",
    "    \"\"\"Computes the solution with the Richtmyer scheme.\n",
    "    \n",
    "    Parameters\n",
    "    ----------\n",
    "    u : array of array of floats\n",
    "        u vector at current time-step\n",
    "    nt : int\n",
    "         Number of time steps\n",
    "    dt : float\n",
    "         Time-step size\n",
    "    dx : float\n",
    "         Mesh spacing\n",
    "    \n",
    "    Returns\n",
    "    -------\n",
    "    u_n : array of u arrays\n",
    "          u array at each time\n",
    "    \"\"\"\n",
    "    \n",
    "    #initialize results array\n",
    "    u_n = numpy.zeros((nt,len(u),3))\n",
    "    #copy the initial u array into each row of u_n\n",
    "    un[:,:] = u\n",
    "    \n",
    "    for t in range(1,nt):\n",
    "        \n",
    "        "
   ]
  },
  {
   "cell_type": "code",
   "execution_count": null,
   "metadata": {
    "collapsed": true
   },
   "outputs": [],
   "source": []
  }
 ],
 "metadata": {
  "kernelspec": {
   "display_name": "Python [Root]",
   "language": "python",
   "name": "Python [Root]"
  },
  "language_info": {
   "codemirror_mode": {
    "name": "ipython",
    "version": 3
   },
   "file_extension": ".py",
   "mimetype": "text/x-python",
   "name": "python",
   "nbconvert_exporter": "python",
   "pygments_lexer": "ipython3",
   "version": "3.5.2"
  }
 },
 "nbformat": 4,
 "nbformat_minor": 0
}
