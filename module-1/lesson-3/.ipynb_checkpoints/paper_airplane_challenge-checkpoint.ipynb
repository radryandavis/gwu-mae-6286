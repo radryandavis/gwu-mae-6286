{
 "cells": [
  {
   "cell_type": "code",
   "execution_count": 1,
   "metadata": {
    "collapsed": true
   },
   "outputs": [],
   "source": [
    "from math import sin, cos, log, ceil\n",
    "import numpy\n",
    "from matplotlib import pyplot\n",
    "%matplotlib inline\n",
    "from matplotlib import rcParams\n",
    "rcParams['font.family'] = 'serif'\n",
    "rcParams['font.size'] = 16"
   ]
  },
  {
   "cell_type": "code",
   "execution_count": 2,
   "metadata": {
    "collapsed": false
   },
   "outputs": [],
   "source": [
    "# model parameters:\n",
    "g = 9.8  # gravity in m s^{-2}\n",
    "v_t = 4.9  # trim velocity in m s^{-1}\n",
    "C_D = 1/5  # drag coefficient --- or D/L if C_L=1\n",
    "C_L = 1  # for convenience, use C_L = 1\n",
    "\n",
    "### set initial conditions ###\n",
    "v0_array = numpy.linspace(0.75*v_t, 1.5*v_t, 20)\n",
    "theta0_array = numpy.linspace(-15, 25, 9) * numpy.pi/180.0\n",
    "x0 = 0  # horizontal position is arbitrary\n",
    "y0 = 2  # initial altitude"
   ]
  },
  {
   "cell_type": "code",
   "execution_count": 3,
   "metadata": {
    "collapsed": true
   },
   "outputs": [],
   "source": [
    "def f(u):\n",
    "    \"\"\"Returns the right-hand-side of the phugoid system of equations.\n",
    "    \n",
    "    Parameters\n",
    "    ----------\n",
    "    u : array of float\n",
    "        array containing the solution at time n.\n",
    "    \n",
    "    Returns\n",
    "    -------\n",
    "    dudt : array of float\n",
    "           array containing the RHS given u.\n",
    "    \"\"\"\n",
    "    \n",
    "    v = u[0]\n",
    "    theta = u[1]\n",
    "    x = u[2]\n",
    "    y = u[3]\n",
    "    return numpy.array([-g*sin(theta) - C_D/C_L*g/v_t**2*v**2,\n",
    "                        -g*cos(theta)/v + g/v_t**2*v,\n",
    "                        v*cos(theta),\n",
    "                        v*sin(theta)])"
   ]
  },
  {
   "cell_type": "code",
   "execution_count": 4,
   "metadata": {
    "collapsed": true
   },
   "outputs": [],
   "source": [
    "def euler_step(u, f, dt):\n",
    "    \"\"\"Returns the solution at the next time-step using Euler's method.\n",
    "    \n",
    "    Parameters\n",
    "    ----------\n",
    "    u : array of float\n",
    "        solution at the previous time-step.\n",
    "    f : function\n",
    "        function to compute the right-hand-side of the system of equations.\n",
    "    dt : float\n",
    "         time-increment.\n",
    "    \n",
    "    Returns\n",
    "    -------\n",
    "    u_n_plus_1 : array of float\n",
    "                approximate solution at the next time step.\n",
    "    \"\"\"\n",
    "    \n",
    "    return u + dt * f(u)"
   ]
  },
  {
   "cell_type": "code",
   "execution_count": 5,
   "metadata": {
    "collapsed": false
   },
   "outputs": [
    {
     "name": "stdout",
     "output_type": "stream",
     "text": [
      "Initial conditions for max distance:\n",
      "v0: 6.96315789474\n",
      "theta0: -5.0\n",
      "distance: 15.502604977\n"
     ]
    }
   ],
   "source": [
    "distance__vs__v0_theta0 = {}\n",
    "trajectory__vs__v0_theta0 = {}\n",
    "max_distance = None\n",
    "dt = 0.1\n",
    "for v0 in v0_array:\n",
    "    for theta0 in theta0_array:\n",
    "        x_list = [x0,]\n",
    "        y_list = [y0,]\n",
    "        u = numpy.array([v0, theta0, x0, y0]) \n",
    "        counter = 0\n",
    "        while True:\n",
    "            counter = counter + 1\n",
    "            if counter > 10000:\n",
    "                break\n",
    "            u_next = euler_step(u, f, dt)\n",
    "            x_next = u_next[2]\n",
    "            y_next = u_next[3]\n",
    "            if y_next < 0:\n",
    "                break\n",
    "            x_list.append(x_next)\n",
    "            y_list.append(y_next)\n",
    "            u = u_next\n",
    "        distance__vs__v0_theta0[(v0, theta0)] = x_list[-1]\n",
    "        trajectory__vs__v0_theta0[(v0, theta0)] = (x_list.copy(), y_list.copy())\n",
    "        if max_distance is None:\n",
    "            max_distance = x_list[-1]\n",
    "            max_v0 = v0\n",
    "            max_theta0 = theta0\n",
    "        elif x_list[-1] > max_distance:\n",
    "            max_distance = x_list[-1]\n",
    "            max_v0 = v0\n",
    "            max_theta0 = theta0\n",
    "        #print(\"v0: \" + str(v0) + \"  theta0: \" + str(theta0*180/numpy.pi) + \"  distance: \" + str(x_list[-1]))\n",
    "(max_x_list, max_y_list) = trajectory__vs__v0_theta0[(max_v0, max_theta0)]\n",
    "print(\"Initial conditions for max distance:\" + \"\\n\" + \\\n",
    "      \"v0: \" + str(max_v0) + \"\\n\" + \\\n",
    "      \"theta0: \" + str(max_theta0*180/numpy.pi) + \"\\n\" + \\\n",
    "      \"distance: \" + str(max_distance) )"
   ]
  },
  {
   "cell_type": "code",
   "execution_count": 6,
   "metadata": {
    "collapsed": false
   },
   "outputs": [
    {
     "data": {
      "image/png": "[encoded data removed]",
      "text/plain": [
       "<matplotlib.figure.Figure at 0x10cdcf438>"
      ]
     },
     "metadata": {},
     "output_type": "display_data"
    }
   ],
   "source": [
    "# visualization of the path\n",
    "pyplot.figure(figsize=(8,6))\n",
    "pyplot.grid(True)\n",
    "pyplot.xlabel(r'x', fontsize=18)\n",
    "pyplot.ylabel(r'y', fontsize=18)\n",
    "pyplot.plot(max_x_list, max_y_list, 'k-', lw=2);"
   ]
  },
  {
   "cell_type": "code",
   "execution_count": null,
   "metadata": {
    "collapsed": true
   },
   "outputs": [],
   "source": []
  }
 ],
 "metadata": {
  "kernelspec": {
   "display_name": "Python [Root]",
   "language": "python",
   "name": "Python [Root]"
  },
  "language_info": {
   "codemirror_mode": {
    "name": "ipython",
    "version": 3
   },
   "file_extension": ".py",
   "mimetype": "text/x-python",
   "name": "python",
   "nbconvert_exporter": "python",
   "pygments_lexer": "ipython3",
   "version": "3.5.2"
  }
 },
 "nbformat": 4,
 "nbformat_minor": 0
}
